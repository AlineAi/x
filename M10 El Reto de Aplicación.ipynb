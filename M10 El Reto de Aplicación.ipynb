{
 "cells": [
  {
   "cell_type": "markdown",
   "metadata": {},
   "source": [
    "![Tec](http://www.cem.itesm.mx/di/seguridad/logotec.png)"
   ]
  },
  {
   "cell_type": "markdown",
   "metadata": {},
   "source": [
    "<center><H1>M10 - El Reto de Aplicación</H1></center>\n",
    "\n",
    "<center><H2>\"Casos de éxito en la industria Medica\"</H2></center>"
   ]
  },
  {
   "cell_type": "markdown",
   "metadata": {
    "colab_type": "text",
    "id": "Fwyhn_eleO6u"
   },
   "source": [
    "El reto consiste en desarrollar un algoritmo con el que podamos predecir si el nuevo tratamiento medico funcionará en un grupo de  400 pacientes. Para lograr este objetivo, debes de usar un conjunto de datos de otros pacientes para poder analizar las variables necesarias y construir el modelo de machine learning que nos ayudará a validar el tratamiento. \n",
    "\n",
    "\n",
    "**Instrucciones:**\n",
    "- Se usará el lenguaje de programación Python.\n",
    "- Se usarán las librerías de python: Pandas, MatPlotLib, Numpy, Scikit-learn.\n",
    "\n",
    "**Mediante este ejercicio, aprenderemos:**\n",
    "- Entender y ejecutar Notebooks con Python.\n",
    "- Ser capaz de utilizar funciones de Python y librerías adicionales.\n",
    "- Dataset:\n",
    " - Obtener el dataset y previsualizar la información del dataset.\n",
    " - Representar y analizar la información del dataset.\n",
    "- Crear y entender el concepto de \"*Conjunto de datos de entrenamiento*\" y \"*Conjuntos de datos de test*\"\n",
    "- Crear y entender el concepto de \"*Clasificador*\" para analizar los datos,  predecir y obtener conclusiones.\n",
    "- Mejorar la predicción.\n",
    "\n",
    "\n",
    "<center> <H1> <span style=\"color:blue;font-weight:bold\">¡Comencemos! </span> </H1> </center>"
   ]
  },
  {
   "cell_type": "markdown",
   "metadata": {},
   "source": [
    "**Nota:** Usa un conjunto de entrenamiento y otro de test para evaluar cada uno de los modelos propuestos, y realiza una serie de predicciones."
   ]
  },
  {
   "cell_type": "markdown",
   "metadata": {},
   "source": [
    "# **La metodología que se seguirá para la evaluación del modelo es la que se muestra en la siguiente imagen**"
   ]
  },
  {
   "cell_type": "markdown",
   "metadata": {},
   "source": [
    "<center> <img src=\"./METODOLOGIA.jpg\" width=\"800\"> </center>"
   ]
  },
  {
   "cell_type": "markdown",
   "metadata": {
    "colab_type": "text",
    "id": "h4cWQVEhm85T"
   },
   "source": [
    "## **Importa las librerías necesarias**"
   ]
  },
  {
   "cell_type": "markdown",
   "metadata": {
    "colab_type": "text",
    "id": "Hiaxt0klnE0a"
   },
   "source": [
    "Vamos ahora a descargar las herramientas necesarías para trabajar. \n",
    "\n",
    "**Nota:** Recuerda que para ejecutar cada celda (caja) tienes que usar **Shift+Enter**"
   ]
  },
  {
   "cell_type": "code",
   "execution_count": 1,
   "metadata": {
    "colab": {},
    "colab_type": "code",
    "id": "4A4--Hg4nBqn"
   },
   "outputs": [],
   "source": [
    "import pandas as pd\n",
    "import numpy as np\n",
    "import seaborn as sns\n",
    "import matplotlib.pyplot as plt\n",
    "\n",
    "from sklearn.linear_model import LogisticRegression\n",
    "from sklearn.model_selection import train_test_split\n",
    "from sklearn.metrics import confusion_matrix\n",
    "from sklearn.metrics import plot_confusion_matrix\n",
    "from sklearn.metrics import f1_score\n",
    "from sklearn.metrics import mean_squared_error"
   ]
  },
  {
   "cell_type": "markdown",
   "metadata": {
    "colab_type": "text",
    "id": "P-9PgzvdoBHL"
   },
   "source": [
    " # **1. Cargar Datos**"
   ]
  },
  {
   "cell_type": "markdown",
   "metadata": {
    "colab_type": "text",
    "id": "gbj1nEOXoW2U"
   },
   "source": [
    "Para cargar los datos, debes subirlos desde los archivos que se te proporcionarón en el **CANVAS.** Una vez guardados, los almacenaremos en un dataframe llamado **data** "
   ]
  },
  {
   "cell_type": "code",
   "execution_count": 2,
   "metadata": {
    "colab": {},
    "colab_type": "code",
    "id": "-_p-Chd0n4YI"
   },
   "outputs": [],
   "source": [
    "data = pd.read_csv('data_ods_reto.csv')"
   ]
  },
  {
   "cell_type": "markdown",
   "metadata": {
    "colab_type": "text",
    "id": "P-9PgzvdoBHL"
   },
   "source": [
    " # **2. Preparar Datos**"
   ]
  },
  {
   "cell_type": "markdown",
   "metadata": {
    "colab_type": "text",
    "id": "CzgWkb98rkAm"
   },
   "source": [
    "### 2.1 Muestra los primeros valores del archivo para hacernos una idea del contenido de la tabla con el código: data.head()"
   ]
  },
  {
   "cell_type": "code",
   "execution_count": 3,
   "metadata": {
    "colab": {},
    "colab_type": "code",
    "id": "g-xsxIFVrtxf"
   },
   "outputs": [
    {
     "data": {
      "text/html": [
       "<div>\n",
       "<style scoped>\n",
       "    .dataframe tbody tr th:only-of-type {\n",
       "        vertical-align: middle;\n",
       "    }\n",
       "\n",
       "    .dataframe tbody tr th {\n",
       "        vertical-align: top;\n",
       "    }\n",
       "\n",
       "    .dataframe thead th {\n",
       "        text-align: right;\n",
       "    }\n",
       "</style>\n",
       "<table border=\"1\" class=\"dataframe\">\n",
       "  <thead>\n",
       "    <tr style=\"text-align: right;\">\n",
       "      <th></th>\n",
       "      <th>a2</th>\n",
       "      <th>tc1</th>\n",
       "      <th>ma1</th>\n",
       "      <th>bw2</th>\n",
       "      <th>h1</th>\n",
       "      <th>x1</th>\n",
       "      <th>c23</th>\n",
       "      <th>psr</th>\n",
       "      <th>c33</th>\n",
       "      <th>bb</th>\n",
       "      <th>c12</th>\n",
       "      <th>output</th>\n",
       "    </tr>\n",
       "  </thead>\n",
       "  <tbody>\n",
       "    <tr>\n",
       "      <th>0</th>\n",
       "      <td>0.76100</td>\n",
       "      <td>74.200</td>\n",
       "      <td>0.92865</td>\n",
       "      <td>0.45967</td>\n",
       "      <td>0.106870</td>\n",
       "      <td>0.96339</td>\n",
       "      <td>105.25</td>\n",
       "      <td>0.093125</td>\n",
       "      <td>28.0290</td>\n",
       "      <td>0.30518</td>\n",
       "      <td>36.75</td>\n",
       "      <td>0</td>\n",
       "    </tr>\n",
       "    <tr>\n",
       "      <th>1</th>\n",
       "      <td>0.39943</td>\n",
       "      <td>21.600</td>\n",
       "      <td>0.33333</td>\n",
       "      <td>0.30792</td>\n",
       "      <td>0.063125</td>\n",
       "      <td>0.56363</td>\n",
       "      <td>60.50</td>\n",
       "      <td>0.066250</td>\n",
       "      <td>5.8780</td>\n",
       "      <td>5.79830</td>\n",
       "      <td>20.50</td>\n",
       "      <td>1</td>\n",
       "    </tr>\n",
       "    <tr>\n",
       "      <th>2</th>\n",
       "      <td>0.25828</td>\n",
       "      <td>24.533</td>\n",
       "      <td>0.43239</td>\n",
       "      <td>0.28093</td>\n",
       "      <td>0.032500</td>\n",
       "      <td>0.31214</td>\n",
       "      <td>82.75</td>\n",
       "      <td>0.026875</td>\n",
       "      <td>10.0380</td>\n",
       "      <td>4.15040</td>\n",
       "      <td>20.50</td>\n",
       "      <td>1</td>\n",
       "    </tr>\n",
       "    <tr>\n",
       "      <th>3</th>\n",
       "      <td>0.33410</td>\n",
       "      <td>16.000</td>\n",
       "      <td>0.28101</td>\n",
       "      <td>0.17548</td>\n",
       "      <td>0.054375</td>\n",
       "      <td>0.53171</td>\n",
       "      <td>76.50</td>\n",
       "      <td>0.056875</td>\n",
       "      <td>10.5820</td>\n",
       "      <td>6.40870</td>\n",
       "      <td>27.25</td>\n",
       "      <td>1</td>\n",
       "    </tr>\n",
       "    <tr>\n",
       "      <th>4</th>\n",
       "      <td>0.42879</td>\n",
       "      <td>42.067</td>\n",
       "      <td>0.46357</td>\n",
       "      <td>0.16029</td>\n",
       "      <td>0.083125</td>\n",
       "      <td>0.53526</td>\n",
       "      <td>73.75</td>\n",
       "      <td>0.088750</td>\n",
       "      <td>9.4274</td>\n",
       "      <td>1.28170</td>\n",
       "      <td>24.00</td>\n",
       "      <td>1</td>\n",
       "    </tr>\n",
       "  </tbody>\n",
       "</table>\n",
       "</div>"
      ],
      "text/plain": [
       "        a2     tc1      ma1      bw2        h1       x1     c23       psr  \\\n",
       "0  0.76100  74.200  0.92865  0.45967  0.106870  0.96339  105.25  0.093125   \n",
       "1  0.39943  21.600  0.33333  0.30792  0.063125  0.56363   60.50  0.066250   \n",
       "2  0.25828  24.533  0.43239  0.28093  0.032500  0.31214   82.75  0.026875   \n",
       "3  0.33410  16.000  0.28101  0.17548  0.054375  0.53171   76.50  0.056875   \n",
       "4  0.42879  42.067  0.46357  0.16029  0.083125  0.53526   73.75  0.088750   \n",
       "\n",
       "       c33       bb    c12  output  \n",
       "0  28.0290  0.30518  36.75       0  \n",
       "1   5.8780  5.79830  20.50       1  \n",
       "2  10.0380  4.15040  20.50       1  \n",
       "3  10.5820  6.40870  27.25       1  \n",
       "4   9.4274  1.28170  24.00       1  "
      ]
     },
     "execution_count": 3,
     "metadata": {},
     "output_type": "execute_result"
    }
   ],
   "source": [
    "data.head()"
   ]
  },
  {
   "cell_type": "markdown",
   "metadata": {
    "colab_type": "text",
    "id": "Rexu7LSUyqOG"
   },
   "source": [
    "### 2.1 Variable de salida\n",
    "\n",
    "La variable que utilizaremos para clasificar los datos será **output**. Donde:\n",
    "- **1** nos indica que el tratamiento **funcionó correctamente** para ese paciente, por lo tanto está sana.\n",
    "- **0** nos indica que el tratamiento **no funcionó**  para ese paciente, con cual el paciente sigue con la enfermedad.\n",
    "\n",
    "### 2.2 Variables de entrada\n",
    "\n",
    "Como has podido observar en el apartado anterior, para predecir el funcionamiento de este nuevo tratamiento tenemos un total de **11 variables** asociadas a cada paciente. En total, contamos con una muestra de **2200 pacientes.** \n",
    "\n",
    "Dado que esta muestra corresponde a datos médicos personales, tanto la información de cada paciente como la **definición de cada una de variables** se han anonimizado. Por tanto, para desarrollar el algoritmo de predicción no contarás con esta información. Cualquier tratamiento de las variables (feature engineering) es válido con el solo propósito de mejorar la predicción del algoritmo. "
   ]
  },
  {
   "cell_type": "markdown",
   "metadata": {
    "colab_type": "text",
    "id": "P-9PgzvdoBHL"
   },
   "source": [
    " # **3. Explorar Datos**"
   ]
  },
  {
   "cell_type": "markdown",
   "metadata": {
    "colab_type": "text",
    "id": "PRLXnHI-2l-Q"
   },
   "source": [
    "Para entender la distribución de los datos, vamos a observar **(Analizar dataset)**:\n",
    "\n",
    "- La cantidad de datos (count)\n",
    "- La distribución de los datos mediante cuartiles (25%,50%,75%)\n",
    "- Media de los datos (mean)\n",
    "- Mínimos y máximos (min, max)\n",
    "- Varianza (std)\n",
    "- ...\n",
    "\n"
   ]
  },
  {
   "cell_type": "markdown",
   "metadata": {
    "colab_type": "text",
    "id": "baO3NUBU5Vuu"
   },
   "source": [
    "**a)** Utiliza la función .describe() para analizar la distribución de los datos"
   ]
  },
  {
   "cell_type": "code",
   "execution_count": 4,
   "metadata": {
    "colab": {},
    "colab_type": "code",
    "id": "UIke9IFd5VNP"
   },
   "outputs": [
    {
     "data": {
      "text/html": [
       "<div>\n",
       "<style scoped>\n",
       "    .dataframe tbody tr th:only-of-type {\n",
       "        vertical-align: middle;\n",
       "    }\n",
       "\n",
       "    .dataframe tbody tr th {\n",
       "        vertical-align: top;\n",
       "    }\n",
       "\n",
       "    .dataframe thead th {\n",
       "        text-align: right;\n",
       "    }\n",
       "</style>\n",
       "<table border=\"1\" class=\"dataframe\">\n",
       "  <thead>\n",
       "    <tr style=\"text-align: right;\">\n",
       "      <th></th>\n",
       "      <th>a2</th>\n",
       "      <th>tc1</th>\n",
       "      <th>ma1</th>\n",
       "      <th>bw2</th>\n",
       "      <th>h1</th>\n",
       "      <th>x1</th>\n",
       "      <th>c23</th>\n",
       "      <th>psr</th>\n",
       "      <th>c33</th>\n",
       "      <th>bb</th>\n",
       "      <th>c12</th>\n",
       "      <th>output</th>\n",
       "    </tr>\n",
       "  </thead>\n",
       "  <tbody>\n",
       "    <tr>\n",
       "      <th>count</th>\n",
       "      <td>2200.000000</td>\n",
       "      <td>2200.000000</td>\n",
       "      <td>2200.000000</td>\n",
       "      <td>2200.000000</td>\n",
       "      <td>2200.000000</td>\n",
       "      <td>2200.000000</td>\n",
       "      <td>2200.000000</td>\n",
       "      <td>2200.000000</td>\n",
       "      <td>2200.000000</td>\n",
       "      <td>2200.000000</td>\n",
       "      <td>2200.000000</td>\n",
       "      <td>2200.000000</td>\n",
       "    </tr>\n",
       "    <tr>\n",
       "      <th>mean</th>\n",
       "      <td>0.329970</td>\n",
       "      <td>33.592457</td>\n",
       "      <td>0.439011</td>\n",
       "      <td>0.267576</td>\n",
       "      <td>0.076527</td>\n",
       "      <td>0.570247</td>\n",
       "      <td>79.861591</td>\n",
       "      <td>0.068725</td>\n",
       "      <td>15.000650</td>\n",
       "      <td>4.482670</td>\n",
       "      <td>28.654432</td>\n",
       "      <td>0.810455</td>\n",
       "    </tr>\n",
       "    <tr>\n",
       "      <th>std</th>\n",
       "      <td>0.156533</td>\n",
       "      <td>19.505999</td>\n",
       "      <td>0.195129</td>\n",
       "      <td>0.174021</td>\n",
       "      <td>0.022987</td>\n",
       "      <td>0.186590</td>\n",
       "      <td>14.380491</td>\n",
       "      <td>0.020183</td>\n",
       "      <td>10.675609</td>\n",
       "      <td>2.655921</td>\n",
       "      <td>11.396071</td>\n",
       "      <td>0.392030</td>\n",
       "    </tr>\n",
       "    <tr>\n",
       "      <th>min</th>\n",
       "      <td>0.063225</td>\n",
       "      <td>2.533300</td>\n",
       "      <td>0.085306</td>\n",
       "      <td>0.005039</td>\n",
       "      <td>0.015625</td>\n",
       "      <td>0.033422</td>\n",
       "      <td>43.000000</td>\n",
       "      <td>0.015000</td>\n",
       "      <td>2.287000</td>\n",
       "      <td>0.305180</td>\n",
       "      <td>8.750000</td>\n",
       "      <td>0.000000</td>\n",
       "    </tr>\n",
       "    <tr>\n",
       "      <th>25%</th>\n",
       "      <td>0.228870</td>\n",
       "      <td>18.516500</td>\n",
       "      <td>0.283828</td>\n",
       "      <td>0.108948</td>\n",
       "      <td>0.059375</td>\n",
       "      <td>0.453707</td>\n",
       "      <td>69.187500</td>\n",
       "      <td>0.054375</td>\n",
       "      <td>6.817025</td>\n",
       "      <td>2.197300</td>\n",
       "      <td>20.000000</td>\n",
       "      <td>1.000000</td>\n",
       "    </tr>\n",
       "    <tr>\n",
       "      <th>50%</th>\n",
       "      <td>0.315775</td>\n",
       "      <td>31.866500</td>\n",
       "      <td>0.416840</td>\n",
       "      <td>0.255900</td>\n",
       "      <td>0.075000</td>\n",
       "      <td>0.544515</td>\n",
       "      <td>78.250000</td>\n",
       "      <td>0.067500</td>\n",
       "      <td>11.529000</td>\n",
       "      <td>4.211400</td>\n",
       "      <td>26.000000</td>\n",
       "      <td>1.000000</td>\n",
       "    </tr>\n",
       "    <tr>\n",
       "      <th>75%</th>\n",
       "      <td>0.390945</td>\n",
       "      <td>47.083500</td>\n",
       "      <td>0.566972</td>\n",
       "      <td>0.391632</td>\n",
       "      <td>0.094375</td>\n",
       "      <td>0.682900</td>\n",
       "      <td>90.750000</td>\n",
       "      <td>0.086250</td>\n",
       "      <td>21.396750</td>\n",
       "      <td>6.408700</td>\n",
       "      <td>35.750000</td>\n",
       "      <td>1.000000</td>\n",
       "    </tr>\n",
       "    <tr>\n",
       "      <th>max</th>\n",
       "      <td>1.004800</td>\n",
       "      <td>82.400000</td>\n",
       "      <td>1.097700</td>\n",
       "      <td>0.937940</td>\n",
       "      <td>0.119370</td>\n",
       "      <td>0.995700</td>\n",
       "      <td>125.250000</td>\n",
       "      <td>0.105620</td>\n",
       "      <td>87.150000</td>\n",
       "      <td>12.512000</td>\n",
       "      <td>94.500000</td>\n",
       "      <td>1.000000</td>\n",
       "    </tr>\n",
       "  </tbody>\n",
       "</table>\n",
       "</div>"
      ],
      "text/plain": [
       "                a2          tc1          ma1          bw2           h1  \\\n",
       "count  2200.000000  2200.000000  2200.000000  2200.000000  2200.000000   \n",
       "mean      0.329970    33.592457     0.439011     0.267576     0.076527   \n",
       "std       0.156533    19.505999     0.195129     0.174021     0.022987   \n",
       "min       0.063225     2.533300     0.085306     0.005039     0.015625   \n",
       "25%       0.228870    18.516500     0.283828     0.108948     0.059375   \n",
       "50%       0.315775    31.866500     0.416840     0.255900     0.075000   \n",
       "75%       0.390945    47.083500     0.566972     0.391632     0.094375   \n",
       "max       1.004800    82.400000     1.097700     0.937940     0.119370   \n",
       "\n",
       "                x1          c23          psr          c33           bb  \\\n",
       "count  2200.000000  2200.000000  2200.000000  2200.000000  2200.000000   \n",
       "mean      0.570247    79.861591     0.068725    15.000650     4.482670   \n",
       "std       0.186590    14.380491     0.020183    10.675609     2.655921   \n",
       "min       0.033422    43.000000     0.015000     2.287000     0.305180   \n",
       "25%       0.453707    69.187500     0.054375     6.817025     2.197300   \n",
       "50%       0.544515    78.250000     0.067500    11.529000     4.211400   \n",
       "75%       0.682900    90.750000     0.086250    21.396750     6.408700   \n",
       "max       0.995700   125.250000     0.105620    87.150000    12.512000   \n",
       "\n",
       "               c12       output  \n",
       "count  2200.000000  2200.000000  \n",
       "mean     28.654432     0.810455  \n",
       "std      11.396071     0.392030  \n",
       "min       8.750000     0.000000  \n",
       "25%      20.000000     1.000000  \n",
       "50%      26.000000     1.000000  \n",
       "75%      35.750000     1.000000  \n",
       "max      94.500000     1.000000  "
      ]
     },
     "execution_count": 4,
     "metadata": {},
     "output_type": "execute_result"
    }
   ],
   "source": [
    "data.describe()"
   ]
  },
  {
   "cell_type": "markdown",
   "metadata": {
    "colab_type": "text",
    "id": "O5rM7aNh5iaW"
   },
   "source": [
    "Escribe acá toda la información relevante que detectes de la tabla anterior:"
   ]
  },
  {
   "cell_type": "markdown",
   "metadata": {
    "colab_type": "text",
    "id": "F4kATXQEY62f"
   },
   "source": [
    "<H1> <span style=\"color:Red;font-weight:bold\">Comentarios:</span> </H1>"
   ]
  },
  {
   "cell_type": "markdown",
   "metadata": {
    "colab_type": "text",
    "id": "PVkYiKo75r6N"
   },
   "source": [
    "**b)** Calcula el número de personas sanas (**output=1**) y enfermas (**output=0**) que tenemos en la muestra (dataset):"
   ]
  },
  {
   "cell_type": "code",
   "execution_count": 5,
   "metadata": {
    "colab": {},
    "colab_type": "code",
    "id": "oHnHIBFy5g1l"
   },
   "outputs": [
    {
     "data": {
      "text/plain": [
       "1    1783\n",
       "0     417\n",
       "Name: output, dtype: int64"
      ]
     },
     "execution_count": 5,
     "metadata": {},
     "output_type": "execute_result"
    }
   ],
   "source": [
    "data['output'].value_counts()"
   ]
  },
  {
   "cell_type": "markdown",
   "metadata": {
    "colab_type": "text",
    "id": "w6a1DaCq6KHS"
   },
   "source": [
    "### 3.1 Analizar las relaciones de las variables del *dataset*"
   ]
  },
  {
   "cell_type": "markdown",
   "metadata": {
    "colab_type": "text",
    "id": "nBGdOlUmZRNC"
   },
   "source": [
    "Uno de los primeros pasos que debe hacer un Data Scientist es analizar si existen o no relaciones entre las variables y la salida.\n",
    "\n",
    "-  ¿Que método usarías para analizar esta relación?\n",
    "-  ¿Cuál de estas variables de entrada está relacionada con la variable de salida **output**, y cuál no?"
   ]
  },
  {
   "cell_type": "markdown",
   "metadata": {
    "colab_type": "text",
    "id": "F4kATXQEY62f"
   },
   "source": [
    "<H1> <span style=\"color:Red;font-weight:bold\">Comentarios:</span> </H1>"
   ]
  },
  {
   "cell_type": "markdown",
   "metadata": {
    "colab_type": "text",
    "id": "nBGdOlUmZRNC"
   },
   "source": [
    "**c)** Crea una matriz de correlación para analizar esta relación entre las variables.\n",
    "\n",
    "**Ayuda:** puedes usar los siguientes métodos:\n",
    "- .corr() \n",
    "- .style.background_gradient(cmap='coolwarm')\n",
    "\n"
   ]
  },
  {
   "cell_type": "code",
   "execution_count": 6,
   "metadata": {
    "colab": {},
    "colab_type": "code",
    "id": "sgEqWCqn6Icm"
   },
   "outputs": [
    {
     "data": {
      "text/plain": [
       "<AxesSubplot:>"
      ]
     },
     "execution_count": 6,
     "metadata": {},
     "output_type": "execute_result"
    },
    {
     "data": {
      "image/png": "[encoded data removed]",
      "text/plain": [
       "<Figure size 792x648 with 2 Axes>"
      ]
     },
     "metadata": {
      "needs_background": "light"
     },
     "output_type": "display_data"
    }
   ],
   "source": [
    "corr = data.corr()\n",
    "mask = np.triu(np.ones_like(corr, dtype=bool))\n",
    "f, ax = plt.subplots(figsize=(11, 9))\n",
    "sns.heatmap(corr, mask=mask)"
   ]
  },
  {
   "cell_type": "markdown",
   "metadata": {
    "colab_type": "text",
    "id": "r7QOb3rBcRnB"
   },
   "source": [
    "Cuanto más cercano es el valor a 1 o -1, más correlación (lineal) existe. \n",
    "\n",
    "- **d)** ¿Cuáles son las variables (features) que más se relacionan con la salida (**output**)?"
   ]
  },
  {
   "cell_type": "markdown",
   "metadata": {
    "colab_type": "text",
    "id": "aRTpLPOPh3r9"
   },
   "source": [
    "Escribe acá toda la información que consideres relevante de la tabla anterior:\n",
    "\n"
   ]
  },
  {
   "cell_type": "markdown",
   "metadata": {},
   "source": [
    "<H1> <span style=\"color:Red;font-weight:bold\">Comentarios:</span> </H1>"
   ]
  },
  {
   "cell_type": "markdown",
   "metadata": {
    "colab_type": "text",
    "id": "U8jr9HyxiGVN"
   },
   "source": [
    "### 3.2 Análisis descriptivo"
   ]
  },
  {
   "cell_type": "markdown",
   "metadata": {
    "colab_type": "text",
    "id": "WWMlOCiEiRP7"
   },
   "source": [
    "Representaremos visualmente los datos de manera que:\n",
    "- Cada punto simbolice una persona.\n",
    "- Un punto naranja representa un paciente que **no le funcionó** el tratamiento. Por otro lado, un punto azul representa un paciente donde el **tratamiento si funcionó**.\n",
    "- Los **ejes x** e **y** representan dos variables que queremos **comparar**."
   ]
  },
  {
   "cell_type": "markdown",
   "metadata": {
    "colab_type": "text",
    "id": "w_6fh8L5iUIq"
   },
   "source": [
    "#### Función auxiliar para representar gráficas de valores del dataset"
   ]
  },
  {
   "cell_type": "code",
   "execution_count": 7,
   "metadata": {
    "colab": {},
    "colab_type": "code",
    "id": "5QpCqeoHiOHF"
   },
   "outputs": [],
   "source": [
    "# FUNCION AUXILIAR; NO MODIFICAR, SOLO EJECUTAR\n",
    "\n",
    "def plot_feat1_feat2(feat1,feat2):\n",
    "    D = data[(data['output'] != 0)]\n",
    "    H = data[(data['output'] == 0)]    \n",
    "\n",
    "    plt.scatter(D[feat1], D[feat2], label='healthy', alpha = 0.20)\n",
    "    plt.scatter(H[feat1], H[feat2], label='sick', alpha = 0.20)\n",
    "\n",
    "    plt.title(feat1 +\" \"+\"vs\"+\" \"+feat2)\n",
    "    plt.xlabel(feat1)\n",
    "    plt.ylabel(feat2)\n",
    "\n",
    "    plt.legend() \n",
    "\n",
    "    plt.show()"
   ]
  },
  {
   "cell_type": "markdown",
   "metadata": {
    "colab_type": "text",
    "id": "fMfAoPaGikqA"
   },
   "source": [
    "Intenta explicar que ocurre en la función auxiliar aquí:"
   ]
  },
  {
   "cell_type": "markdown",
   "metadata": {},
   "source": [
    "<H1> <span style=\"color:Red;font-weight:bold\">Comentarios:</span> </H1>"
   ]
  },
  {
   "cell_type": "markdown",
   "metadata": {},
   "source": [
    "Divide el conjunto de datos en Healthy & Sick en función de 2 variables"
   ]
  },
  {
   "cell_type": "markdown",
   "metadata": {
    "colab_type": "text",
    "id": "gTtEbdJMinlM"
   },
   "source": [
    "Ejemplo para representar información de \"2 columnas\" vs \"la que nos interesa predecir\""
   ]
  },
  {
   "cell_type": "code",
   "execution_count": 8,
   "metadata": {
    "colab": {},
    "colab_type": "code",
    "id": "NTNhHEgliZ2d"
   },
   "outputs": [],
   "source": [
    "# La representación puede lograrse con el siguiente código:\n",
    "#plot_feat1_feat2('NombreColumna1','NombreColumna2')"
   ]
  },
  {
   "cell_type": "markdown",
   "metadata": {
    "colab_type": "text",
    "id": "qLC1WXRJk0bK"
   },
   "source": [
    "**e)** Representa gráficamente la relación entre 'h1' y 'psr'\n"
   ]
  },
  {
   "cell_type": "code",
   "execution_count": 9,
   "metadata": {
    "colab": {},
    "colab_type": "code",
    "id": "mCv2DDvdk-uM"
   },
   "outputs": [
    {
     "data": {
      "image/png": "[encoded data removed]",
      "text/plain": [
       "<Figure size 432x288 with 1 Axes>"
      ]
     },
     "metadata": {
      "needs_background": "light"
     },
     "output_type": "display_data"
    }
   ],
   "source": [
    "plot_feat1_feat2('h1','psr')"
   ]
  },
  {
   "cell_type": "markdown",
   "metadata": {
    "colab_type": "text",
    "id": "1qoOgzytk_mu"
   },
   "source": [
    "**f)** Representa gráficamente la relación entre 'c33' y 'c12'\n"
   ]
  },
  {
   "cell_type": "code",
   "execution_count": 10,
   "metadata": {
    "colab": {},
    "colab_type": "code",
    "id": "jQvh6P5elL8K"
   },
   "outputs": [
    {
     "data": {
      "image/png": "[encoded data removed]",
      "text/plain": [
       "<Figure size 432x288 with 1 Axes>"
      ]
     },
     "metadata": {
      "needs_background": "light"
     },
     "output_type": "display_data"
    }
   ],
   "source": [
    "plot_feat1_feat2('c33','c12')"
   ]
  },
  {
   "cell_type": "markdown",
   "metadata": {
    "colab_type": "text",
    "id": "LSnhxvXolM1_"
   },
   "source": [
    "**g)** Representa gráficamente la relación entre otras variables que consideres hayan tenido una buena correlación en la pregunta **c)**"
   ]
  },
  {
   "cell_type": "code",
   "execution_count": 11,
   "metadata": {
    "colab": {},
    "colab_type": "code",
    "id": "egwVWO5nlWrP",
    "scrolled": true
   },
   "outputs": [
    {
     "data": {
      "image/png": "[encoded data removed]",
      "text/plain": [
       "<Figure size 432x288 with 1 Axes>"
      ]
     },
     "metadata": {
      "needs_background": "light"
     },
     "output_type": "display_data"
    }
   ],
   "source": [
    "plot_feat1_feat2('a2','tc1')"
   ]
  },
  {
   "cell_type": "markdown",
   "metadata": {
    "colab_type": "text",
    "id": "P-9PgzvdoBHL"
   },
   "source": [
    " # **4. Definir Modelo**"
   ]
  },
  {
   "cell_type": "markdown",
   "metadata": {
    "colab_type": "text",
    "id": "4FdE1gjulgGp"
   },
   "source": [
    "El clasificador es un algoritmo que nos va a permitir analizar un conjunto de datos y clasificarlos en grupos. \n",
    "\n",
    "En Machine Learning se utiliza un clasificador para el análisis de datos en [aprendizaje supervisado](https://es.wikipedia.org/wiki/Aprendizaje_supervisado).\n",
    "\n",
    "![Clasificación](https://static.javatpoint.com/tutorial/machine-learning/images/classification-algorithm-in-machine-learning.png)\n",
    "\n",
    "\n",
    "**Ejemplo**\n",
    "- Dado un conjunto de emails, determinar cuál es spam y cuál no.\n",
    "- Dado un conjunto de imágenes de animales, determinar cuáles son perros.\n",
    "\n",
    "**Objetivo**\n",
    "- En este reto, queremos lograr predecir o **clasificar** a que grupo de personas le funcionará el tratamiento, es decir queremos separar las personas sanas  (output=1) de las personas a las que no le ha funcionado el tratamiento y por lo tanto se consideran aún enfermas (output=0). Es un ejercicio de **clasificación**.\n",
    "- A continuación puede visualizarse la diferencia entre \"clasificación\" y \"regresión\"\n",
    "\n",
    "![Clasificación vs regresión](https://res.cloudinary.com/practicaldev/image/fetch/s--c4Lfzdwy--/c_limit%2Cf_auto%2Cfl_progressive%2Cq_auto%2Cw_880/https://thepracticaldev.s3.amazonaws.com/i/mjshszqx4fj22hs12vfn.png)\n",
    "\n",
    "**Implementación**\n",
    "- Crear un conjunto de datos de entrenamiento y un conjunto de datos de test\n",
    "- Crear un clasificador mediante un [tipo de algoritmo](https://www.javatpoint.com/classification-algorithm-in-machine-learning): *RandomForest, XgBoost, KNN*\n",
    "\n",
    "- Entrenar el clasificador con los \"datos de entrenamiento\" y de las \"features\" que queremos tener en cuenta para el entrenamiento.\n",
    "- Predecir resultados mediante nuestro set de datos de test o mediante nuevos datos.\n",
    "- Determinar las conclusiones de los resultados obtenidos en las predicciones, como el % de acierto y precisión obtenida.\n",
    "\n",
    "\n"
   ]
  },
  {
   "cell_type": "code",
   "execution_count": 21,
   "metadata": {
    "colab": {},
    "colab_type": "code",
    "id": "QrPqm4VjtpY7"
   },
   "outputs": [],
   "source": [
    "X = data.drop('output',axis=1)\n",
    "y = data['output']"
   ]
  },
  {
   "cell_type": "markdown",
   "metadata": {
    "colab_type": "text",
    "id": "BqOvXs70tsd5"
   },
   "source": [
    "**4.1)** Crea un conjunto de datos de entrenamiento y un conjunto de datos de test.\n",
    "\n",
    "Intrucciones: \n",
    "\n",
    "- **seed:** esta variable será igual la suma de los años de nacimiento de los participantes. \n",
    "  Ejemplo: seed = 1992 + 2000+ 1995 + 1990 = 7977\n",
    "\n",
    "- **test_size:** no se permite usar más del 20% de datos para crear el test"
   ]
  },
  {
   "cell_type": "code",
   "execution_count": 13,
   "metadata": {
    "colab": {},
    "colab_type": "code",
    "id": "C_K_mgEnt8fJ"
   },
   "outputs": [],
   "source": [
    "seed = (1980 + 1981 + 1996) * 5  #suma los cumpleños de los participantes por el número del equipo\n",
    "test_size = 0.20  #máximo 0.20\n",
    "\n",
    "X_train, X_test, y_train, y_test = train_test_split(X, y, train_size = 0.8, test_size = test_size, random_state = seed)"
   ]
  },
  {
   "cell_type": "markdown",
   "metadata": {
    "colab_type": "text",
    "id": "7gwf-pwCu2tA"
   },
   "source": [
    "**4.2)** Crea el clasificador y entrénalo"
   ]
  },
  {
   "cell_type": "code",
   "execution_count": 14,
   "metadata": {
    "colab": {},
    "colab_type": "code",
    "id": "3u7-fu98u_XX"
   },
   "outputs": [],
   "source": [
    "# Crear clasificador Regresión Logística\n",
    "# Una línea de código\n",
    "model =  LogisticRegression(solver = 'liblinear')"
   ]
  },
  {
   "cell_type": "code",
   "execution_count": 15,
   "metadata": {
    "colab": {},
    "colab_type": "code",
    "id": "3u7-fu98u_XX"
   },
   "outputs": [
    {
     "data": {
      "text/plain": [
       "LogisticRegression(solver='liblinear')"
      ]
     },
     "execution_count": 15,
     "metadata": {},
     "output_type": "execute_result"
    }
   ],
   "source": [
    "# Entrenar el clasificador con las los datos de entrenamiento y las feature\n",
    "# Una línea de código\n",
    "model.fit(X_train,y_train)"
   ]
  },
  {
   "cell_type": "markdown",
   "metadata": {
    "colab_type": "text",
    "id": "P-9PgzvdoBHL"
   },
   "source": [
    " # **5. Visualización del Modelo**"
   ]
  },
  {
   "cell_type": "code",
   "execution_count": 16,
   "metadata": {
    "scrolled": true
   },
   "outputs": [
    {
     "name": "stdout",
     "output_type": "stream",
     "text": [
      "coeficiente de determinación: 0.9704545454545455\n"
     ]
    }
   ],
   "source": [
    "# Obtén resultados\n",
    "r_sq = model.score(X_train,y_train)\n",
    "print('coeficiente de determinación:', r_sq)"
   ]
  },
  {
   "cell_type": "markdown",
   "metadata": {
    "colab_type": "text",
    "id": "P-9PgzvdoBHL"
   },
   "source": [
    " # **6. Predecir Datos**"
   ]
  },
  {
   "cell_type": "markdown",
   "metadata": {
    "colab_type": "text",
    "id": "9WU_8vznviwL"
   },
   "source": [
    "Usa el modelo que acabas de entrenar en el conjunto de **X_test** para calcular el acierto del modelo:"
   ]
  },
  {
   "cell_type": "code",
   "execution_count": 17,
   "metadata": {
    "colab": {},
    "colab_type": "code",
    "id": "O6yByImQvjo5"
   },
   "outputs": [
    {
     "name": "stdout",
     "output_type": "stream",
     "text": [
      "respuesta prevista:\n",
      "[1 1 0 1 0 1 1 1 1 0 1 1 1 1 1 1 1 1 1 1 1 0 1 0 1 1 1 1 1 1 1 1 1 1 0 1 1\n",
      " 1 1 1 1 1 1 1 1 0 1 1 1 1 1 1 0 1 1 1 1 1 1 1 1 0 1 1 1 1 0 0 0 1 1 1 1 1\n",
      " 1 0 0 1 1 1 1 1 1 1 1 1 1 0 1 0 1 1 1 1 1 1 1 1 1 1 0 1 1 1 1 1 1 1 1 1 1\n",
      " 1 0 1 1 1 1 1 1 1 1 1 0 0 1 0 1 1 1 1 1 1 1 1 0 1 1 1 1 1 1 1 1 1 1 1 1 1\n",
      " 1 1 1 1 1 1 0 1 1 1 1 1 0 1 0 1 1 1 0 1 1 1 1 1 1 1 1 1 1 1 1 1 1 1 1 1 1\n",
      " 1 0 1 1 1 1 0 1 0 1 0 1 1 0 1 1 1 0 1 1 1 1 1 1 1 0 0 1 0 1 0 1 0 1 1 1 1\n",
      " 1 1 0 1 0 0 1 1 1 1 1 1 1 1 1 1 1 1 1 1 1 0 1 1 1 1 1 0 1 1 1 0 1 1 1 1 1\n",
      " 0 1 1 1 1 1 0 0 1 1 0 1 1 0 1 0 1 0 0 0 1 1 1 1 1 1 0 1 1 1 0 0 1 1 0 1 1\n",
      " 1 1 0 1 1 0 1 1 0 1 1 1 1 1 1 1 1 1 0 1 1 1 1 1 0 1 1 1 1 0 1 1 0 1 1 0 1\n",
      " 1 1 0 0 1 0 1 1 1 1 1 1 1 1 0 1 1 0 0 0 1 1 1 1 1 1 1 1 1 1 1 1 1 1 1 0 0\n",
      " 1 1 1 1 1 1 1 0 1 1 1 0 1 1 1 1 1 1 1 1 1 0 1 0 1 0 1 1 1 1 1 0 1 1 1 0 1\n",
      " 0 0 1 1 1 1 1 0 1 0 1 0 0 1 1 1 1 1 1 1 1 1 1 1 1 1 1 0 1 0 1 1 1]\n"
     ]
    }
   ],
   "source": [
    "# Aplicar classif.predict sobre los datos X de test (X_test)\n",
    "# Una línea de código\n",
    "y_pred = model.predict(X_test)\n",
    "print('respuesta prevista:', y_pred, sep='\\n')\n"
   ]
  },
  {
   "cell_type": "markdown",
   "metadata": {},
   "source": [
    "<center> <H1> <span style=\"color:blue;font-weight:bold\">¡Enhorabuena!</span> </H1> </center>\n",
    "\n",
    "Ya has entrenado tu primer algoritmo de Machine Learning.  Ahora a comparar los resultados de tu modelo con los valores reales usando algunas de las métricas más comunes.  "
   ]
  },
  {
   "cell_type": "markdown",
   "metadata": {
    "colab_type": "text",
    "id": "P-9PgzvdoBHL"
   },
   "source": [
    " # **7. Evaluar Resultados**"
   ]
  },
  {
   "cell_type": "markdown",
   "metadata": {
    "colab_type": "text",
    "id": "2TrKGVP5vptd"
   },
   "source": [
    "###  Matriz de Confusión\n",
    "\n",
    "La Matriz de Confusión es una métrica que nos va a permitir conocer el rendimiento y acierto de una clasificación realizada con Machine Learning.\n",
    "Podemos encontrar información adicional para entender su objectivo en el siguiente enlace: [ConfusionMatrix](https://towardsdatascience.com/understanding-confusion-matrix-a9ad42dcfd62)\n",
    " \n",
    "![texto alternativo](https://miro.medium.com/max/578/1*7EYylA6XlXSGBCF77j_rOA.png) "
   ]
  },
  {
   "cell_type": "markdown",
   "metadata": {
    "colab_type": "text",
    "id": "BBCDV8Kfvts3"
   },
   "source": [
    "**7.1)** Crearemos una matriz de confusión para analizar las predicciones anteriores obtenidas de nuestro clasificador."
   ]
  },
  {
   "cell_type": "code",
   "execution_count": 18,
   "metadata": {
    "colab": {},
    "colab_type": "code",
    "id": "YB6xKHoTvqgw",
    "scrolled": true
   },
   "outputs": [
    {
     "data": {
      "image/png": "[encoded data removed]",
      "text/plain": [
       "<Figure size 432x288 with 2 Axes>"
      ]
     },
     "metadata": {
      "needs_background": "light"
     },
     "output_type": "display_data"
    }
   ],
   "source": [
    "disp = plot_confusion_matrix(model, X_test, y_test,cmap=plt.cm.Blues,normalize = 'true')"
   ]
  },
  {
   "cell_type": "markdown",
   "metadata": {
    "colab_type": "text",
    "id": "LdXTOTRnv6x0"
   },
   "source": [
    "¿Qué porcentaje de casos se situa en cada cuadrante? ¿En medicina, es peor un false positive o un false negative? Comenta aquí la matriz y responde a las preguntas:"
   ]
  },
  {
   "cell_type": "markdown",
   "metadata": {},
   "source": [
    "<H1> <span style=\"color:Red;font-weight:bold\">Comentarios:</span> </H1>"
   ]
  },
  {
   "cell_type": "code",
   "execution_count": 19,
   "metadata": {},
   "outputs": [],
   "source": [
    "#----------------------------------------------------------------\n",
    "# Para mostrar el resultado de la predicción del clasificador\n",
    "# utiliza la siguiente función auxiliar (NO MODIFICAR)\n",
    "\n",
    "def print_mse_f1(Y_Real, Y_Pred): \n",
    "    rmse = mean_squared_error(y_test, y_pred)\n",
    "    f1 = f1_score(y_test, y_pred, average='micro')\n",
    "    print('El Mean Squared Error (MSE) del modelo entrenado es:', rmse)\n",
    "    print('El F1 score del modelo entrenado es:', f1)\n"
   ]
  },
  {
   "cell_type": "markdown",
   "metadata": {},
   "source": [
    "**5.2)** Utiliza la función **print_mse_f1** con la predicción obtenida a partir del modelo entrenado para medir el error:"
   ]
  },
  {
   "cell_type": "code",
   "execution_count": 20,
   "metadata": {
    "scrolled": false
   },
   "outputs": [
    {
     "name": "stdout",
     "output_type": "stream",
     "text": [
      "El Mean Squared Error (MSE) del modelo entrenado es: 0.01818181818181818\n",
      "El F1 score del modelo entrenado es: 0.9818181818181818\n"
     ]
    }
   ],
   "source": [
    "print_mse_f1(y_train,y_pred)"
   ]
  },
  {
   "cell_type": "markdown",
   "metadata": {},
   "source": [
    "Si deseas entender más sobre las métricas aplicadas a algoritmos de clasificación, consulta el siguiente enlace: [métricas](https://www.iartificial.net/precision-recall-f1-accuracy-en-clasificacion/)\n"
   ]
  },
  {
   "cell_type": "markdown",
   "metadata": {
    "colab_type": "text",
    "id": "knBYzY6hwFF_"
   },
   "source": [
    "# 8. Mejorar predicción\n",
    "\n",
    "¿Crees que puedes mejorar la predicción?\n",
    "\n",
    "Puedes intentar:\n",
    "\n",
    "- Optimizar los parámetros del clasificador\n",
    "- Prueba entrenar otro tipo de modelo de [clasificación](https://www.javatpoint.com/classification-algorithm-in-machine-learning): *RandomForest, XgBoost, KNN*"
   ]
  },
  {
   "cell_type": "markdown",
   "metadata": {},
   "source": [
    "<H1> <span style=\"color:Red;font-weight:bold\">Conclusiones:</span> </H1>"
   ]
  }
 ],
 "metadata": {
  "colab": {
   "authorship_tag": "ABX9TyP5ZFQDEp6SWZN8uR+2mSWH",
   "collapsed_sections": [],
   "mount_file_id": "1tm31IYJa-Gv3db-68ujrtClSFDq8sBR8",
   "name": "Reto-Cardiología-Datatón-Immune.ipynb",
   "provenance": [
    {
     "file_id": "1tm31IYJa-Gv3db-68ujrtClSFDq8sBR8",
     "timestamp": 1600464702001
    },
    {
     "file_id": "1leFvtDcWQ04Q0I4ZSw9YxJQF28dF13vx",
     "timestamp": 1600443302385
    }
   ]
  },
  "instance_type": "ml.t3.medium",
  "kernelspec": {
   "display_name": "Python 3",
   "language": "python",
   "name": "python3"
  },
  "language_info": {
   "codemirror_mode": {
    "name": "ipython",
    "version": 3
   },
   "file_extension": ".py",
   "mimetype": "text/x-python",
   "name": "python",
   "nbconvert_exporter": "python",
   "pygments_lexer": "ipython3",
   "version": "3.8.5"
  }
 },
 "nbformat": 4,
 "nbformat_minor": 4
}
